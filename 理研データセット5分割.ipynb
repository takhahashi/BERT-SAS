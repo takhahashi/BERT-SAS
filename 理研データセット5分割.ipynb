{
  "cells": [
    {
      "cell_type": "code",
      "source": [
        "from google.colab import drive\n",
        "drive.mount('/content/drive')\n",
        "%cd \"/content/drive/MyDrive/GoogleColab/SA/ShortAnswer/\""
      ],
      "metadata": {
        "colab": {
          "base_uri": "https://localhost:8080/"
        },
        "id": "gUcsPlRyZdnD",
        "outputId": "77b107e7-a202-4e0a-b86a-dc2f9168c2c8"
      },
      "execution_count": 1,
      "outputs": [
        {
          "output_type": "stream",
          "name": "stdout",
          "text": [
            "Mounted at /content/drive\n",
            "/content/drive/MyDrive/GoogleColab/SA/ShortAnswer\n"
          ]
        }
      ]
    },
    {
      "cell_type": "code",
      "source": [
        "from sklearn.model_selection import KFold\n",
        "import json\n",
        "import numpy as np\n",
        "with open('./Y14/Y14_2-2_2_3.json') as f:\n",
        "  train_dataf = json.load(f)\n",
        "kf = KFold(n_splits=5)\n",
        "for ind, train_test_ind in enumerate(kf.split(train_dataf)):\n",
        "  with open('./Y14/2-2_2_3/data/fold{}/train_data.json'.format(ind), 'w') as f:\n",
        "    json.dump(list(np.array(train_dataf)[train_test_ind[0]]), f, ensure_ascii=False)\n",
        "  with open('./Y14/2-2_2_3/data/fold{}/test_data.json'.format(ind), 'w') as f:\n",
        "    json.dump(list(np.array(train_dataf)[train_test_ind[1]]), f, ensure_ascii=False)"
      ],
      "metadata": {
        "id": "gZd2lGqzaUsS"
      },
      "execution_count": null,
      "outputs": []
    },
    {
      "cell_type": "code",
      "source": [
        "from sklearn.model_selection import KFold\n",
        "import json\n",
        "import numpy as np\n",
        "with open('./Y14/Y14_2-2_2_3.json') as f:\n",
        "  train_dataf = json.load(f)\n",
        "kf = KFold(n_splits=5)\n",
        "for ind, train_test_ind in enumerate(kf.split(train_dataf)):"
      ],
      "metadata": {
        "id": "po3OMAIIAuS3"
      },
      "execution_count": null,
      "outputs": []
    },
    {
      "cell_type": "code",
      "source": [
        "from sklearn.model_selection import KFold\n",
        "import json\n",
        "import numpy as np\n",
        "with open('./Y15/Y15_2-3_1_5.json') as f:\n",
        "  train_dataf = json.load(f)"
      ],
      "metadata": {
        "id": "bkRXizCpY9aq"
      },
      "execution_count": null,
      "outputs": []
    },
    {
      "cell_type": "code",
      "source": [
        "kf = KFold(n_splits=5, shuffle=True)\n",
        "x = np.arange(len(train_dataf))\n",
        "dataf_splited = []\n",
        "for _fold, (train_index, test_index) in enumerate(kf.split(x)):\n",
        "  print(test_index[:20])\n",
        "  dataf_splited.append([train_dataf[i] for i in test_index])"
      ],
      "metadata": {
        "colab": {
          "base_uri": "https://localhost:8080/"
        },
        "id": "BabfuSLXbXhz",
        "outputId": "7e4bc81d-d834-4db2-a8cf-18d76d294d00"
      },
      "execution_count": null,
      "outputs": [
        {
          "output_type": "stream",
          "name": "stdout",
          "text": [
            "[ 11  12  16  19  20  29  36  38  47  50  57  62  64  66  72  81  84 102\n",
            " 110 112]\n",
            "[ 1  2 15 18 21 22 32 40 48 53 54 59 74 75 79 80 83 86 91 93]\n",
            "[  5   8  10  13  14  25  26  30  43  44  49  51  63  65  68  87  89  95\n",
            "  99 103]\n",
            "[ 0  3  4  7 24 27 31 35 39 45 46 55 61 67 69 71 76 78 88 90]\n",
            "[ 6  9 17 23 28 33 34 37 41 42 52 56 58 60 70 73 77 82 85 94]\n"
          ]
        }
      ]
    },
    {
      "cell_type": "code",
      "source": [
        "from sklearn.model_selection import KFold\n",
        "import json\n",
        "import numpy as np\n",
        "\n",
        "with open('./Y15/Y15_2-3_2_2.json') as f:\n",
        "  train_dataf = json.load(f)\n",
        "\n",
        "kf = KFold(n_splits=5, shuffle=True)\n",
        "x = np.arange(len(train_dataf))\n",
        "dataf_splited = []\n",
        "for _fold, (train_index, test_index) in enumerate(kf.split(x)):\n",
        "  print(test_index)\n",
        "  dataf_splited.append([train_dataf[i] for i in test_index])"
      ],
      "metadata": {
        "colab": {
          "base_uri": "https://localhost:8080/"
        },
        "id": "5FReCEfeA99f",
        "outputId": "b9e6bb2d-fd49-4559-8eb9-b9f3a697dc5e"
      },
      "execution_count": 8,
      "outputs": [
        {
          "output_type": "stream",
          "name": "stdout",
          "text": [
            "[  11   13   18   34   38   45   48   57   58   59   64   68   73   86\n",
            "   91   99  101  108  111  117  118  120  125  134  137  141  144  155\n",
            "  157  162  164  168  180  185  200  202  203  206  212  217  230  231\n",
            "  234  249  263  266  268  287  290  291  296  304  313  321  331  350\n",
            "  353  358  359  360  376  377  381  382  388  395  396  399  401  403\n",
            "  404  405  407  413  415  425  426  439  447  456  461  462  463  464\n",
            "  471  472  485  486  509  511  512  517  518  522  524  532  541  542\n",
            "  543  544  554  555  559  562  574  575  590  598  600  602  603  604\n",
            "  608  610  613  615  617  623  624  626  629  634  637  641  643  644\n",
            "  645  652  667  668  678  692  698  705  708  710  723  730  736  738\n",
            "  743  744  750  755  764  766  769  773  778  786  787  795  803  804\n",
            "  805  806  809  812  814  826  832  839  842  846  847  851  856  857\n",
            "  864  866  873  885  886  889  893  896  901  904  906  910  915  916\n",
            "  919  922  927  928  944  952  962  963  965  970  974  976  977  978\n",
            "  981  984  987  992  993  994  999 1002 1004 1006 1016 1019 1030 1038\n",
            " 1039 1040 1044 1048 1050 1052 1053 1055 1064 1070 1079 1083 1086 1088\n",
            " 1098 1101 1106 1112 1117 1122 1128 1132 1134 1141 1145 1149 1152 1157\n",
            " 1159 1160 1161 1171 1173 1176 1178 1181 1188 1192 1210 1212 1216 1221\n",
            " 1222 1235 1238 1243 1249 1258 1262 1266 1267 1270 1272 1277 1280 1291\n",
            " 1295 1308 1310 1317 1322 1326 1334 1335 1336 1337 1356 1361 1369 1370\n",
            " 1378 1381 1386 1387 1389 1412 1414 1415 1418 1422 1423 1424 1432 1434\n",
            " 1444 1445 1459 1464 1467 1474 1475 1476 1480 1483 1485 1488 1489 1499\n",
            " 1502 1515 1518 1519 1520 1527 1533 1538 1544 1562 1565 1572 1587 1591\n",
            " 1593 1594 1596 1597 1607 1619 1623 1631 1636 1641 1657 1662 1666 1669\n",
            " 1673 1677 1680 1686 1702 1703 1707 1708 1715 1718 1722 1725 1732 1736\n",
            " 1738 1739 1741 1750 1753 1755 1759 1762 1766 1783 1784 1796 1797 1801\n",
            " 1804 1807 1811 1814 1817 1825 1826 1829 1838 1839 1845 1849 1855 1874\n",
            " 1885 1887 1888 1893 1896 1899 1905 1914 1919 1924 1931 1947 1949 1950\n",
            " 1954 1955 1959 1965 1972 1974 1975 1981]\n",
            "[   3    4    5    8    9   10   12   14   16   20   21   32   36   41\n",
            "   46   47   50   51   56   61   70   72   74   78   82   90   92   94\n",
            "   97  100  105  110  112  119  139  140  143  146  158  159  166  187\n",
            "  190  195  201  215  225  229  235  236  237  242  246  248  250  252\n",
            "  255  257  269  276  279  289  306  307  309  312  315  318  319  324\n",
            "  327  328  332  334  335  337  338  344  346  368  369  371  374  375\n",
            "  378  386  387  397  427  434  437  438  441  442  445  466  469  470\n",
            "  473  478  482  483  487  495  496  497  500  515  519  526  533  538\n",
            "  540  545  548  556  561  566  567  568  578  579  580  581  587  589\n",
            "  593  605  616  620  631  632  635  640  647  649  651  653  658  659\n",
            "  662  679  681  686  688  695  715  718  721  722  727  729  732  733\n",
            "  745  757  759  762  763  772  782  799  802  822  823  830  837  848\n",
            "  852  858  859  872  877  887  892  909  917  924  930  931  937  940\n",
            "  942  943  947  949  951  959  961  969  973  985  989 1001 1027 1029\n",
            " 1034 1035 1037 1046 1059 1063 1067 1073 1090 1091 1093 1094 1102 1103\n",
            " 1105 1110 1111 1119 1129 1154 1158 1162 1169 1185 1191 1193 1199 1200\n",
            " 1202 1203 1211 1218 1225 1229 1230 1232 1236 1237 1242 1244 1251 1252\n",
            " 1268 1269 1275 1276 1278 1281 1285 1286 1298 1299 1304 1309 1315 1318\n",
            " 1324 1330 1332 1341 1342 1343 1344 1349 1350 1351 1358 1368 1383 1392\n",
            " 1398 1400 1404 1405 1409 1419 1421 1427 1428 1439 1440 1446 1452 1453\n",
            " 1456 1466 1472 1481 1486 1490 1493 1498 1500 1506 1509 1514 1517 1528\n",
            " 1529 1530 1531 1542 1545 1564 1566 1571 1574 1578 1579 1584 1588 1595\n",
            " 1600 1604 1605 1606 1608 1611 1616 1617 1618 1620 1621 1622 1627 1628\n",
            " 1630 1639 1643 1649 1651 1658 1660 1661 1665 1689 1692 1694 1695 1697\n",
            " 1704 1709 1714 1723 1724 1726 1729 1730 1731 1737 1747 1748 1756 1760\n",
            " 1761 1768 1774 1780 1788 1790 1791 1799 1800 1806 1808 1812 1816 1822\n",
            " 1832 1836 1843 1851 1853 1868 1869 1878 1879 1880 1883 1886 1890 1894\n",
            " 1904 1913 1918 1920 1925 1929 1937 1942 1943 1945 1956 1957 1960 1963\n",
            " 1966 1968 1970 1976 1979 1980 1986 1998]\n",
            "[   1    2    6    7   23   26   28   30   35   40   42   49   53   54\n",
            "   55   66   80   81   88   96   98  109  113  123  124  126  127  128\n",
            "  129  130  133  150  160  161  163  165  170  171  182  183  184  193\n",
            "  199  207  208  210  216  219  226  228  233  239  240  244  253  258\n",
            "  260  265  267  271  272  275  283  294  299  300  301  302  305  316\n",
            "  317  325  329  336  340  341  342  347  348  351  354  356  362  366\n",
            "  373  379  380  390  392  393  414  418  421  428  429  431  432  446\n",
            "  449  451  454  459  465  468  480  490  506  513  523  529  535  539\n",
            "  552  557  560  583  592  596  599  601  609  622  627  642  664  669\n",
            "  671  672  675  685  689  690  691  696  697  699  700  725  726  728\n",
            "  741  752  753  754  756  760  761  767  768  770  774  776  777  779\n",
            "  781  784  785  789  793  797  801  807  808  810  813  821  825  829\n",
            "  835  844  845  854  860  861  862  865  868  869  870  874  875  878\n",
            "  879  900  902  907  912  914  920  925  934  941  953  954  956  964\n",
            "  966  971  972  975  979  980  986  988  990  996 1000 1003 1009 1011\n",
            " 1012 1015 1022 1023 1024 1025 1028 1036 1043 1045 1051 1054 1062 1065\n",
            " 1071 1075 1080 1085 1087 1097 1099 1114 1123 1126 1127 1131 1133 1140\n",
            " 1143 1144 1148 1150 1165 1167 1168 1179 1184 1186 1190 1196 1204 1207\n",
            " 1208 1213 1214 1215 1226 1233 1240 1248 1254 1259 1271 1273 1274 1279\n",
            " 1282 1283 1284 1287 1289 1290 1293 1297 1300 1301 1305 1306 1327 1328\n",
            " 1347 1348 1360 1364 1366 1373 1377 1379 1380 1391 1395 1396 1402 1406\n",
            " 1408 1411 1430 1431 1436 1443 1462 1468 1469 1492 1497 1501 1510 1513\n",
            " 1516 1521 1522 1524 1526 1534 1537 1540 1541 1543 1547 1550 1551 1553\n",
            " 1554 1560 1569 1575 1580 1590 1592 1598 1601 1602 1613 1615 1634 1638\n",
            " 1642 1645 1646 1648 1659 1670 1675 1676 1687 1691 1693 1696 1699 1701\n",
            " 1705 1710 1717 1721 1733 1734 1735 1742 1746 1752 1778 1782 1787 1792\n",
            " 1809 1810 1815 1831 1837 1841 1847 1852 1861 1862 1866 1867 1875 1877\n",
            " 1882 1902 1903 1912 1917 1922 1923 1934 1936 1939 1941 1971 1978 1984\n",
            " 1985 1987 1989 1990 1993 1994 1995 1997]\n",
            "[  15   17   19   24   29   43   60   62   63   65   67   69   75   84\n",
            "   85   95  102  103  115  121  131  132  147  148  149  151  153  167\n",
            "  172  173  176  179  186  188  189  191  196  198  204  205  209  214\n",
            "  220  223  245  251  256  261  277  286  292  295  298  303  308  311\n",
            "  314  322  323  326  330  345  349  355  357  361  365  367  372  383\n",
            "  385  389  394  400  406  411  416  420  423  424  433  444  452  455\n",
            "  457  475  476  477  488  489  494  499  501  504  507  508  516  520\n",
            "  521  525  527  528  530  531  534  549  550  553  563  570  571  573\n",
            "  577  588  595  606  611  612  618  621  628  638  646  648  655  657\n",
            "  661  663  665  673  676  682  684  693  694  702  703  704  707  709\n",
            "  711  716  720  731  746  748  749  751  758  765  771  775  788  791\n",
            "  792  794  800  818  824  827  828  834  838  843  850  855  863  867\n",
            "  876  880  883  897  898  903  905  908  913  918  929  932  936  945\n",
            "  946  948  950  955  957  960  983  991  995 1014 1018 1026 1032 1041\n",
            " 1042 1047 1049 1056 1058 1068 1077 1081 1084 1089 1092 1095 1096 1107\n",
            " 1115 1116 1118 1120 1121 1125 1136 1146 1151 1156 1164 1172 1175 1177\n",
            " 1182 1183 1189 1194 1197 1198 1205 1206 1209 1217 1223 1228 1234 1246\n",
            " 1247 1253 1255 1256 1257 1261 1288 1294 1296 1303 1307 1312 1319 1321\n",
            " 1323 1325 1329 1331 1333 1339 1340 1345 1346 1352 1359 1362 1365 1372\n",
            " 1374 1375 1376 1384 1385 1388 1390 1393 1397 1403 1407 1410 1413 1435\n",
            " 1448 1451 1454 1455 1457 1458 1460 1461 1463 1465 1473 1477 1484 1487\n",
            " 1491 1494 1495 1503 1504 1505 1511 1523 1539 1555 1558 1561 1563 1568\n",
            " 1576 1577 1581 1586 1589 1609 1610 1614 1624 1625 1629 1632 1637 1655\n",
            " 1664 1668 1678 1679 1682 1684 1690 1698 1700 1706 1712 1719 1720 1740\n",
            " 1745 1751 1754 1757 1763 1767 1770 1771 1773 1777 1779 1781 1786 1794\n",
            " 1803 1818 1823 1827 1828 1834 1840 1842 1846 1850 1854 1857 1859 1860\n",
            " 1863 1865 1871 1872 1873 1876 1884 1889 1891 1892 1895 1897 1900 1901\n",
            " 1906 1907 1908 1910 1911 1921 1926 1932 1933 1940 1946 1951 1952 1962\n",
            " 1967 1969 1973 1977 1982 1983 1988 1991]\n",
            "[   0   22   25   27   31   33   37   39   44   52   71   76   77   79\n",
            "   83   87   89   93  104  106  107  114  116  122  135  136  138  142\n",
            "  145  152  154  156  169  174  175  177  178  181  192  194  197  211\n",
            "  213  218  221  222  224  227  232  238  241  243  247  254  259  262\n",
            "  264  270  273  274  278  280  281  282  284  285  288  293  297  310\n",
            "  320  333  339  343  352  363  364  370  384  391  398  402  408  409\n",
            "  410  412  417  419  422  430  435  436  440  443  448  450  453  458\n",
            "  460  467  474  479  481  484  491  492  493  498  502  503  505  510\n",
            "  514  536  537  546  547  551  558  564  565  569  572  576  582  584\n",
            "  585  586  591  594  597  607  614  619  625  630  633  636  639  650\n",
            "  654  656  660  666  670  674  677  680  683  687  701  706  712  713\n",
            "  714  717  719  724  734  735  737  739  740  742  747  780  783  790\n",
            "  796  798  811  815  816  817  819  820  831  833  836  840  841  849\n",
            "  853  871  881  882  884  888  890  891  894  895  899  911  921  923\n",
            "  926  933  935  938  939  958  967  968  982  997  998 1005 1007 1008\n",
            " 1010 1013 1017 1020 1021 1031 1033 1057 1060 1061 1066 1069 1072 1074\n",
            " 1076 1078 1082 1100 1104 1108 1109 1113 1124 1130 1135 1137 1138 1139\n",
            " 1142 1147 1153 1155 1163 1166 1170 1174 1180 1187 1195 1201 1219 1220\n",
            " 1224 1227 1231 1239 1241 1245 1250 1260 1263 1264 1265 1292 1302 1311\n",
            " 1313 1314 1316 1320 1338 1353 1354 1355 1357 1363 1367 1371 1382 1394\n",
            " 1399 1401 1416 1417 1420 1425 1426 1429 1433 1437 1438 1441 1442 1447\n",
            " 1449 1450 1470 1471 1478 1479 1482 1496 1507 1508 1512 1525 1532 1535\n",
            " 1536 1546 1548 1549 1552 1556 1557 1559 1567 1570 1573 1582 1583 1585\n",
            " 1599 1603 1612 1626 1633 1635 1640 1644 1647 1650 1652 1653 1654 1656\n",
            " 1663 1667 1671 1672 1674 1681 1683 1685 1688 1711 1713 1716 1727 1728\n",
            " 1743 1744 1749 1758 1764 1765 1769 1772 1775 1776 1785 1789 1793 1795\n",
            " 1798 1802 1805 1813 1819 1820 1821 1824 1830 1833 1835 1844 1848 1856\n",
            " 1858 1864 1870 1881 1898 1909 1915 1916 1927 1928 1930 1935 1938 1944\n",
            " 1948 1953 1958 1961 1964 1992 1996 1999]\n"
          ]
        }
      ]
    },
    {
      "cell_type": "code",
      "source": [
        "train_dataf[11]"
      ],
      "metadata": {
        "colab": {
          "base_uri": "https://localhost:8080/"
        },
        "id": "bsbGI6_sBjGx",
        "outputId": "f82e8c6d-6948-4da5-8827-a0173de23cc0"
      },
      "execution_count": 11,
      "outputs": [
        {
          "output_type": "execute_result",
          "data": {
            "text/plain": [
              "{'mecab': '甘える こと が 嫌 だっ た が どうしても 空気 銃 が 欲しかっ た ので ねだる と 、 買 て もらえ ず 、 母 から もっとも な 意見 が 返っ て き て 困っ た から',\n",
              " 'score': 2,\n",
              " 'A': '1 1 1 1 1 1 1 0 0 0 0 0 0 0 0 0 0 0 0 0 0 0 0 0 0 0 0 0 0 0 0 0 0 0 0',\n",
              " 'A_Score': 2,\n",
              " 'B': '0 0 0 0 0 0 0 0 0 0 0 0 0 0 0 0 0 0 0 0 0 0 0 0 0 0 0 0 0 0 0 0 0 0 0',\n",
              " 'B_Score': 0,\n",
              " 'C': '0 0 0 0 0 0 0 0 0 0 0 0 0 0 0 0 0 0 0 0 0 0 0 0 0 0 0 0 0 0 0 0 0 0 0',\n",
              " 'C_Score': 0,\n",
              " 'D': '0 0 0 0 0 0 0 0 1 1 1 1 1 1 1 1 0 0 0 0 0 0 0 0 0 0 0 0 0 0 0 0 0 0 0',\n",
              " 'D_Score': 1,\n",
              " 'E': '0 0 0 0 0 0 0 0 0 0 0 0 0 0 0 0 0 0 0 0 0 0 0 0 0 0 0 0 0 0 0 0 0 0 0',\n",
              " 'E_Score': 0,\n",
              " 'Miss_Score': -1,\n",
              " 'id': 1498,\n",
              " 'Char': '甘 え る こ と が 嫌 だ っ た が ど う し て も 空 気 銃 が 欲 し か っ た の で ね だ る と 、 買 て も ら え ず 、 母 か ら も っ と も な 意 見 が 返 っ て き て 困 っ た か ら',\n",
              " 'C_A': '1 1 1 1 1 1 1 1 1 1 1 0 0 0 0 0 0 0 0 0 0 0 0 0 0 0 0 0 0 0 0 0 0 0 0 0 0 0 0 0 0 0 0 0 0 0 0 0 0 0 0 0 0 0 0 0 0 0 0 0',\n",
              " 'C_B': '0 0 0 0 0 0 0 0 0 0 0 0 0 0 0 0 0 0 0 0 0 0 0 0 0 0 0 0 0 0 0 0 0 0 0 0 0 0 0 0 0 0 0 0 0 0 0 0 0 0 0 0 0 0 0 0 0 0 0 0',\n",
              " 'C_C': '0 0 0 0 0 0 0 0 0 0 0 0 0 0 0 0 0 0 0 0 0 0 0 0 0 0 0 0 0 0 0 0 0 0 0 0 0 0 0 0 0 0 0 0 0 0 0 0 0 0 0 0 0 0 0 0 0 0 0 0',\n",
              " 'C_D': '0 0 0 0 0 0 0 0 0 0 0 0 0 0 0 0 1 1 1 1 1 1 1 1 1 1 1 1 1 1 1 0 0 0 0 0 0 0 0 0 0 0 0 0 0 0 0 0 0 0 0 0 0 0 0 0 0 0 0 0',\n",
              " 'C_E': '0 0 0 0 0 0 0 0 0 0 0 0 0 0 0 0 0 0 0 0 0 0 0 0 0 0 0 0 0 0 0 0 0 0 0 0 0 0 0 0 0 0 0 0 0 0 0 0 0 0 0 0 0 0 0 0 0 0 0 0'}"
            ]
          },
          "metadata": {},
          "execution_count": 11
        }
      ]
    },
    {
      "cell_type": "code",
      "source": [
        "dataf_splited[0][0]"
      ],
      "metadata": {
        "colab": {
          "base_uri": "https://localhost:8080/"
        },
        "id": "8yGE44EcBedr",
        "outputId": "77c1ae50-d5b4-4861-e37c-9cffaad9afad"
      },
      "execution_count": 10,
      "outputs": [
        {
          "output_type": "execute_result",
          "data": {
            "text/plain": [
              "{'mecab': '甘える こと が 嫌 だっ た が どうしても 空気 銃 が 欲しかっ た ので ねだる と 、 買 て もらえ ず 、 母 から もっとも な 意見 が 返っ て き て 困っ た から',\n",
              " 'score': 2,\n",
              " 'A': '1 1 1 1 1 1 1 0 0 0 0 0 0 0 0 0 0 0 0 0 0 0 0 0 0 0 0 0 0 0 0 0 0 0 0',\n",
              " 'A_Score': 2,\n",
              " 'B': '0 0 0 0 0 0 0 0 0 0 0 0 0 0 0 0 0 0 0 0 0 0 0 0 0 0 0 0 0 0 0 0 0 0 0',\n",
              " 'B_Score': 0,\n",
              " 'C': '0 0 0 0 0 0 0 0 0 0 0 0 0 0 0 0 0 0 0 0 0 0 0 0 0 0 0 0 0 0 0 0 0 0 0',\n",
              " 'C_Score': 0,\n",
              " 'D': '0 0 0 0 0 0 0 0 1 1 1 1 1 1 1 1 0 0 0 0 0 0 0 0 0 0 0 0 0 0 0 0 0 0 0',\n",
              " 'D_Score': 1,\n",
              " 'E': '0 0 0 0 0 0 0 0 0 0 0 0 0 0 0 0 0 0 0 0 0 0 0 0 0 0 0 0 0 0 0 0 0 0 0',\n",
              " 'E_Score': 0,\n",
              " 'Miss_Score': -1,\n",
              " 'id': 1498,\n",
              " 'Char': '甘 え る こ と が 嫌 だ っ た が ど う し て も 空 気 銃 が 欲 し か っ た の で ね だ る と 、 買 て も ら え ず 、 母 か ら も っ と も な 意 見 が 返 っ て き て 困 っ た か ら',\n",
              " 'C_A': '1 1 1 1 1 1 1 1 1 1 1 0 0 0 0 0 0 0 0 0 0 0 0 0 0 0 0 0 0 0 0 0 0 0 0 0 0 0 0 0 0 0 0 0 0 0 0 0 0 0 0 0 0 0 0 0 0 0 0 0',\n",
              " 'C_B': '0 0 0 0 0 0 0 0 0 0 0 0 0 0 0 0 0 0 0 0 0 0 0 0 0 0 0 0 0 0 0 0 0 0 0 0 0 0 0 0 0 0 0 0 0 0 0 0 0 0 0 0 0 0 0 0 0 0 0 0',\n",
              " 'C_C': '0 0 0 0 0 0 0 0 0 0 0 0 0 0 0 0 0 0 0 0 0 0 0 0 0 0 0 0 0 0 0 0 0 0 0 0 0 0 0 0 0 0 0 0 0 0 0 0 0 0 0 0 0 0 0 0 0 0 0 0',\n",
              " 'C_D': '0 0 0 0 0 0 0 0 0 0 0 0 0 0 0 0 1 1 1 1 1 1 1 1 1 1 1 1 1 1 1 0 0 0 0 0 0 0 0 0 0 0 0 0 0 0 0 0 0 0 0 0 0 0 0 0 0 0 0 0',\n",
              " 'C_E': '0 0 0 0 0 0 0 0 0 0 0 0 0 0 0 0 0 0 0 0 0 0 0 0 0 0 0 0 0 0 0 0 0 0 0 0 0 0 0 0 0 0 0 0 0 0 0 0 0 0 0 0 0 0 0 0 0 0 0 0'}"
            ]
          },
          "metadata": {},
          "execution_count": 10
        }
      ]
    },
    {
      "cell_type": "code",
      "source": [
        "dataf_splited[1][0]"
      ],
      "metadata": {
        "colab": {
          "base_uri": "https://localhost:8080/"
        },
        "id": "YQiLjqmsBv5P",
        "outputId": "7df35e44-4ce6-4130-f233-4de996295bfa"
      },
      "execution_count": 12,
      "outputs": [
        {
          "output_type": "execute_result",
          "data": {
            "text/plain": [
              "{'mecab': 'たた 無 暗に 、 くしゃくしゃ する ので 自分 ながら 癪 に 障っ て 障っ て たまらなかっ た し 、 自分 の 意気地 な さ が 、 口惜しかっ た から 。',\n",
              " 'score': 1,\n",
              " 'A': '0 0 0 0 0 0 0 0 0 0 0 0 0 0 0 0 0 0 0 0 0 0 0 0 0 0 0 0 0 0',\n",
              " 'A_Score': 0,\n",
              " 'B': '0 0 0 0 0 0 0 0 0 0 0 0 0 0 0 0 0 0 0 0 0 0 0 0 0 0 0 0 0 0',\n",
              " 'B_Score': 0,\n",
              " 'C': '0 0 0 0 0 0 0 0 0 0 0 0 0 0 0 0 0 0 0 0 0 0 0 0 0 0 0 0 0 0',\n",
              " 'C_Score': 0,\n",
              " 'D': '0 0 0 0 0 0 0 0 0 0 0 0 0 0 0 0 0 0 0 0 0 0 0 0 0 0 0 0 0 0',\n",
              " 'D_Score': 0,\n",
              " 'E': '0 0 0 0 0 0 0 0 0 0 0 0 0 0 0 0 0 0 0 1 1 1 1 1 0 0 0 0 0 0',\n",
              " 'E_Score': 2,\n",
              " 'Miss_Score': -1,\n",
              " 'id': 1085,\n",
              " 'Char': 'た た 無 暗 に 、 く し ゃ く し ゃ す る の で 自 分 な が ら 癪 に 障 っ て 障 っ て た ま ら な か っ た し 、 自 分 の 意 気 地 な さ が 、 口 惜 し か っ た か ら 。',\n",
              " 'C_A': '0 0 0 0 0 0 0 0 0 0 0 0 0 0 0 0 0 0 0 0 0 0 0 0 0 0 0 0 0 0 0 0 0 0 0 0 0 0 0 0 0 0 0 0 0 0 0 0 0 0 0 0 0 0 0 0 0',\n",
              " 'C_B': '0 0 0 0 0 0 0 0 0 0 0 0 0 0 0 0 0 0 0 0 0 0 0 0 0 0 0 0 0 0 0 0 0 0 0 0 0 0 0 0 0 0 0 0 0 0 0 0 0 0 0 0 0 0 0 0 0',\n",
              " 'C_C': '0 0 0 0 0 0 0 0 0 0 0 0 0 0 0 0 0 0 0 0 0 0 0 0 0 0 0 0 0 0 0 0 0 0 0 0 0 0 0 0 0 0 0 0 0 0 0 0 0 0 0 0 0 0 0 0 0',\n",
              " 'C_D': '0 0 0 0 0 0 0 0 0 0 0 0 0 0 0 0 0 0 0 0 0 0 0 0 0 0 0 0 0 0 0 0 0 0 0 0 0 0 0 0 0 0 0 0 0 0 0 0 0 0 0 0 0 0 0 0 0',\n",
              " 'C_E': '0 0 0 0 0 0 0 0 0 0 0 0 0 0 0 0 0 0 0 0 0 0 0 0 0 0 0 0 0 0 0 0 0 0 0 0 0 0 1 1 1 1 1 1 1 1 0 0 0 0 0 0 0 0 0 0 0'}"
            ]
          },
          "metadata": {},
          "execution_count": 12
        }
      ]
    },
    {
      "cell_type": "code",
      "source": [
        "len(dataf_splited)"
      ],
      "metadata": {
        "colab": {
          "base_uri": "https://localhost:8080/"
        },
        "id": "5yibSdw4BQHs",
        "outputId": "81743bae-1511-45d9-8c53-ca77788bc000"
      },
      "execution_count": 19,
      "outputs": [
        {
          "output_type": "execute_result",
          "data": {
            "text/plain": [
              "5"
            ]
          },
          "metadata": {},
          "execution_count": 19
        }
      ]
    },
    {
      "cell_type": "code",
      "source": [
        "train_dataf['mecab']"
      ],
      "metadata": {
        "colab": {
          "base_uri": "https://localhost:8080/",
          "height": 183
        },
        "id": "VOb6Ik2sCQs-",
        "outputId": "82768059-fa35-421d-f597-8c505bd936e8"
      },
      "execution_count": 15,
      "outputs": [
        {
          "output_type": "error",
          "ename": "TypeError",
          "evalue": "ignored",
          "traceback": [
            "\u001b[0;31m---------------------------------------------------------------------------\u001b[0m",
            "\u001b[0;31mTypeError\u001b[0m                                 Traceback (most recent call last)",
            "\u001b[0;32m<ipython-input-15-d8bb589fa757>\u001b[0m in \u001b[0;36m<cell line: 1>\u001b[0;34m()\u001b[0m\n\u001b[0;32m----> 1\u001b[0;31m \u001b[0mtrain_dataf\u001b[0m\u001b[0;34m[\u001b[0m\u001b[0;34m'mecab'\u001b[0m\u001b[0;34m]\u001b[0m\u001b[0;34m\u001b[0m\u001b[0;34m\u001b[0m\u001b[0m\n\u001b[0m",
            "\u001b[0;31mTypeError\u001b[0m: list indices must be integers or slices, not str"
          ]
        }
      ]
    },
    {
      "cell_type": "code",
      "source": [
        "print(train_dataf[0]['mecab'])\n",
        "train_dataf[0]['mecab'].replace(' ', '')"
      ],
      "metadata": {
        "colab": {
          "base_uri": "https://localhost:8080/",
          "height": 53
        },
        "id": "ywlyvHd1CcER",
        "outputId": "8fd1feac-17f4-469e-ecda-2cd7cb0523f8"
      },
      "execution_count": 18,
      "outputs": [
        {
          "output_type": "stream",
          "name": "stdout",
          "text": [
            "叔父 に 待たさ れる の が 厭 に なり 普段 甘える こと は 嫌い だ が どう しよう も 無くなっ た ので 甘え て しまっ た 自分 の こと を 情けなく 思っ た\n"
          ]
        },
        {
          "output_type": "execute_result",
          "data": {
            "text/plain": [
              "'叔父に待たされるのが厭になり普段甘えることは嫌いだがどうしようも無くなったので甘えてしまった自分のことを情けなく思った'"
            ],
            "application/vnd.google.colaboratory.intrinsic+json": {
              "type": "string"
            }
          },
          "metadata": {},
          "execution_count": 18
        }
      ]
    },
    {
      "cell_type": "code",
      "source": [
        "train_dataf['mecab'][0].replace(' ', '')"
      ],
      "metadata": {
        "colab": {
          "base_uri": "https://localhost:8080/",
          "height": 183
        },
        "id": "R1Uq1iOlCFhC",
        "outputId": "eeadf393-3efc-4de6-8e53-97704968f743"
      },
      "execution_count": 13,
      "outputs": [
        {
          "output_type": "error",
          "ename": "TypeError",
          "evalue": "ignored",
          "traceback": [
            "\u001b[0;31m---------------------------------------------------------------------------\u001b[0m",
            "\u001b[0;31mTypeError\u001b[0m                                 Traceback (most recent call last)",
            "\u001b[0;32m<ipython-input-13-1024e39ba422>\u001b[0m in \u001b[0;36m<cell line: 1>\u001b[0;34m()\u001b[0m\n\u001b[0;32m----> 1\u001b[0;31m \u001b[0mtrain_dataf\u001b[0m\u001b[0;34m[\u001b[0m\u001b[0;34m'mecab'\u001b[0m\u001b[0;34m]\u001b[0m\u001b[0;34m[\u001b[0m\u001b[0;36m0\u001b[0m\u001b[0;34m]\u001b[0m\u001b[0;34m.\u001b[0m\u001b[0mreplace\u001b[0m\u001b[0;34m(\u001b[0m\u001b[0;34m' '\u001b[0m\u001b[0;34m,\u001b[0m \u001b[0;34m''\u001b[0m\u001b[0;34m)\u001b[0m\u001b[0;34m\u001b[0m\u001b[0;34m\u001b[0m\u001b[0m\n\u001b[0m",
            "\u001b[0;31mTypeError\u001b[0m: list indices must be integers or slices, not str"
          ]
        }
      ]
    },
    {
      "cell_type": "code",
      "source": [
        "for qtype in ['1_5', '2_2', '2_4']:\n",
        "  with open('./Y15/Y15_2-3_{}.json'.format(qtype)) as f:\n",
        "    train_dataf = json.load(f)\n",
        "\n",
        "  kf = KFold(n_splits=5, shuffle=True)\n",
        "  x = np.arange(len(train_dataf))\n",
        "  dataf_splited = []\n",
        "  for _fold, (train_index, test_index) in enumerate(kf.split(x)):\n",
        "    dataf_splited.append([train_dataf[i] for i in test_index])\n",
        "\n",
        "  for i in range(5):\n",
        "    if(i+1 > 4):\n",
        "      dev_idx = 0\n",
        "    else:\n",
        "      dev_idx = i+1\n",
        "\n",
        "    train_dataflist = []\n",
        "    for j in range(5):\n",
        "      if j != i and j != dev_idx:\n",
        "        train_dataflist += dataf_splited[j]\n",
        "    assert len(train_dataflist) == len(dataf_splited[0])*3\n",
        "\n",
        "    with open('./Y15/{}_data/Y15_2-3_{}_fold{}/train_data.json'.format(qtype, qtype, i), 'w') as f:\n",
        "      json.dump(train_dataflist, f, ensure_ascii=False)\n",
        "    with open('./Y15/{}_data/Y15_2-3_{}_fold{}/dev_data.json'.format(qtype, qtype, i), 'w') as f:\n",
        "      json.dump(dataf_splited[dev_idx], f, ensure_ascii=False)\n",
        "    with open('./Y15/{}_data/Y15_2-3_{}_fold{}/test_data.json'.format(qtype, qtype, i), 'w') as f:\n",
        "      json.dump(dataf_splited[i], f, ensure_ascii=False)"
      ],
      "metadata": {
        "id": "HkHlUWvZcrSY"
      },
      "execution_count": null,
      "outputs": []
    },
    {
      "cell_type": "code",
      "source": [
        "with open('./Y15/2-3_1_5_data/Y15_2-3_1_5_fold0/train_data.json') as f:\n",
        "  train_dataf = json.load(f)\n",
        "with open('./Y15/2-3_1_5_data/Y15_2-3_1_5_fold0/test_data.json') as f:\n",
        "  test_dataf = json.load(f)\n",
        "with open('./Y15/2-3_1_5_data/Y15_2-3_1_5_fold0/dev_data.json') as f:\n",
        "  dev_dataf = json.load(f)"
      ],
      "metadata": {
        "id": "x6hY0zw6DY2E"
      },
      "execution_count": 33,
      "outputs": []
    },
    {
      "cell_type": "code",
      "source": [
        "all_df = train_dataf + test_dataf + dev_dataf"
      ],
      "metadata": {
        "id": "eM0n_HQAFJLf"
      },
      "execution_count": 34,
      "outputs": []
    },
    {
      "cell_type": "code",
      "source": [
        "def check_duplicate_dataframe(dataframes):\n",
        "    seen = set()\n",
        "    for df in dataframes:\n",
        "        # DataFrameを文字列に変換して比較\n",
        "        df_str = str(df.values)\n",
        "        if df_str in seen:\n",
        "            return True  # 同じDataFrameが見つかった場合\n",
        "        seen.add(df_str)\n",
        "    return False"
      ],
      "metadata": {
        "id": "Ns8KoLitE2y8"
      },
      "execution_count": 35,
      "outputs": []
    },
    {
      "cell_type": "code",
      "source": [
        "if check_duplicate_dataframe(all_df):\n",
        "  print('dup!')\n",
        "else:\n",
        "  print('ok')"
      ],
      "metadata": {
        "colab": {
          "base_uri": "https://localhost:8080/"
        },
        "id": "Ys1sFqmiEZc1",
        "outputId": "fc812b8e-7753-483d-ebb2-6c6bf1b22420"
      },
      "execution_count": 36,
      "outputs": [
        {
          "output_type": "stream",
          "name": "stdout",
          "text": [
            "ok\n"
          ]
        }
      ]
    },
    {
      "cell_type": "code",
      "source": [
        "len(train_dataf)"
      ],
      "metadata": {
        "colab": {
          "base_uri": "https://localhost:8080/"
        },
        "id": "xD_eU0EZDqsP",
        "outputId": "1024b493-7a03-4db9-ecaa-1a4e98937e34"
      },
      "execution_count": 23,
      "outputs": [
        {
          "output_type": "execute_result",
          "data": {
            "text/plain": [
              "1200"
            ]
          },
          "metadata": {},
          "execution_count": 23
        }
      ]
    },
    {
      "cell_type": "code",
      "source": [
        "len(test_dataf)"
      ],
      "metadata": {
        "colab": {
          "base_uri": "https://localhost:8080/"
        },
        "id": "7N6xCPbyDs3P",
        "outputId": "6a73c17a-52b7-421b-bdf0-f11f3b59c494"
      },
      "execution_count": 24,
      "outputs": [
        {
          "output_type": "execute_result",
          "data": {
            "text/plain": [
              "400"
            ]
          },
          "metadata": {},
          "execution_count": 24
        }
      ]
    },
    {
      "cell_type": "code",
      "source": [
        "len(dev_dataf)"
      ],
      "metadata": {
        "colab": {
          "base_uri": "https://localhost:8080/"
        },
        "id": "VzSvk9AQDuS6",
        "outputId": "0d095e5e-0568-415f-89a8-ee04716e3280"
      },
      "execution_count": 25,
      "outputs": [
        {
          "output_type": "execute_result",
          "data": {
            "text/plain": [
              "400"
            ]
          },
          "metadata": {},
          "execution_count": 25
        }
      ]
    },
    {
      "cell_type": "code",
      "source": [
        "train_dataf"
      ],
      "metadata": {
        "id": "C8yxBvjhDzAf"
      },
      "execution_count": null,
      "outputs": []
    },
    {
      "cell_type": "code",
      "source": [
        "sp = [[1],[2],[3],[4],[5]]"
      ],
      "metadata": {
        "id": "tzl_IsqQCzxr"
      },
      "execution_count": 20,
      "outputs": []
    },
    {
      "cell_type": "code",
      "source": [
        "for i in range(5):\n",
        "  if(i+1 > 4):\n",
        "    dev_idx = 0\n",
        "  else:\n",
        "    dev_idx = i+1\n",
        "\n",
        "  train_dataflist = []\n",
        "  for j in range(5):\n",
        "    if j != i and j != dev_idx:\n",
        "      train_dataflist += sp[j]\n",
        "  print(train_dataflist)\n",
        "  print(sp[i])\n",
        "  print(sp[dev_idx])"
      ],
      "metadata": {
        "colab": {
          "base_uri": "https://localhost:8080/"
        },
        "id": "vgC1B9RdC_9Z",
        "outputId": "78007135-d292-49a5-eded-5490fdca28dd"
      },
      "execution_count": 21,
      "outputs": [
        {
          "output_type": "stream",
          "name": "stdout",
          "text": [
            "[3, 4, 5]\n",
            "[1]\n",
            "[2]\n",
            "[1, 4, 5]\n",
            "[2]\n",
            "[3]\n",
            "[1, 2, 5]\n",
            "[3]\n",
            "[4]\n",
            "[1, 2, 3]\n",
            "[4]\n",
            "[5]\n",
            "[2, 3, 4]\n",
            "[5]\n",
            "[1]\n"
          ]
        }
      ]
    },
    {
      "cell_type": "code",
      "source": [
        "\n",
        "from sklearn.model_selection import KFold\n",
        "from torch.utils.data.dataset import Subset\n",
        "\n",
        "prompt_id = pid\n",
        "data_dir = \"data/fold_0\"\n",
        "low, high = asap_ranges[prompt_id]\n",
        "train_path, dev_path, test_path = data_dir+\"/train.tsv\", data_dir+\"/dev.tsv\", data_dir+\"/test.tsv\"\n",
        "\n",
        "train_dataset = get_dataset(pd.read_table(train_path, sep='\\t'), prompt_id)\n",
        "dev_dataset = get_dataset(pd.read_table(dev_path, sep='\\t'), prompt_id)\n",
        "test_dataset = get_dataset(pd.read_table(test_path, sep='\\t'), prompt_id)\n",
        "\n",
        "all_dataset = torch.utils.data.ConcatDataset([train_dataset, dev_dataset, test_dataset])\n",
        "kf = KFold(n_splits=5, shuffle=True)\n",
        "x = np.arange(all_dataset.__len__())\n",
        "dataset_list = []\n",
        "for _fold, (train_index, test_index) in enumerate(kf.split(x)):\n",
        "  subset = Subset(all_dataset, test_index)\n",
        "  dataset_list.append(subset)\n",
        "\n",
        "for i in range(5):\n",
        "  if(i+1 > 4):\n",
        "    dev_idx = 0\n",
        "  else:\n",
        "    dev_idx = i+1\n",
        "  train_dataset = torch.utils.data.ConcatDataset([dataset for idx, dataset in enumerate(dataset_list) if idx != i and idx != dev_idx])\n",
        "  dev_dataset = dataset_list[dev_idx]\n",
        "  test_dataset = dataset_list[i]\n",
        "  save_data(train_dataset, 'CrossPromptDefer/TrainData_scoremodel/pt{}/fold_{}/train_dataset'.format(prompt_id, i))\n",
        "  save_data(dev_dataset, 'CrossPromptDefer/TrainData_scoremodel/pt{}/fold_{}/dev_dataset'.format(prompt_id, i))\n",
        "  save_data(test_dataset, 'CrossPromptDefer/TrainData_scoremodel/pt{}/fold_{}/test_dataset'.format(prompt_id, i))"
      ],
      "metadata": {
        "id": "14yHUhQNZphS"
      },
      "execution_count": null,
      "outputs": []
    },
    {
      "cell_type": "code",
      "source": [
        "train_dataf[0]"
      ],
      "metadata": {
        "colab": {
          "base_uri": "https://localhost:8080/"
        },
        "id": "Oabn0qHVZi-Q",
        "outputId": "d4edbc42-0b0a-4370-eb6c-e3beb13e1300"
      },
      "execution_count": null,
      "outputs": [
        {
          "output_type": "execute_result",
          "data": {
            "text/plain": [
              "{'mecab': 'スポーツ が 特定 の 企業 や 組織 によって 独占 さ れ 、 日本 の スポーツ 界 の 発展 、 スポーツ 文化 の 定着 、 スポーツ による 健全 な 社会 の 建設 も あり 得 ず 、 消え て いく 存在 に なっ て しまう 点 。',\n",
              " 'score': 4,\n",
              " 'A': '0 0 0 0 0 0 0 0 0 0 0 0 0 0 0 0 0 0 0 0 0 0 0 0 0 0 0 0 0 0 0 0 0 0 0 0 0 0 0 0 0 0 0 0 0 0',\n",
              " 'A_Score': 0,\n",
              " 'B': '0 0 0 0 0 0 0 0 0 0 0 0 0 0 0 0 0 0 0 0 0 0 0 0 0 0 0 0 0 0 0 0 0 0 0 0 0 0 0 0 0 0 0 0 0 0',\n",
              " 'B_Score': 0,\n",
              " 'C': '0 0 0 0 0 0 0 0 0 0 0 0 0 0 0 0 0 0 0 0 0 0 0 0 0 0 0 0 0 0 0 0 0 0 0 0 0 0 0 0 0 0 0 0 0 0',\n",
              " 'C_Score': 0,\n",
              " 'D': '0 0 0 0 0 0 0 0 0 0 0 0 0 0 0 0 0 0 0 0 0 0 0 0 0 0 0 0 0 0 0 0 0 0 0 0 0 0 0 0 0 0 0 0 0 0',\n",
              " 'D_Score': 0,\n",
              " 'E': '0 0 0 0 0 0 0 0 0 0 0 0 0 0 0 0 0 0 0 0 0 0 0 0 1 1 1 1 1 1 1 1 1 1 1 1 1 1 1 1 1 1 1 1 0 0',\n",
              " 'E_Score': 4,\n",
              " 'Miss_Score': 0,\n",
              " 'id': 1660,\n",
              " 'Char': 'ス ポ ー ツ が 特 定 の 企 業 や 組 織 に よ っ て 独 占 さ れ 、 日 本 の ス ポ ー ツ 界 の 発 展 、 ス ポ ー ツ 文 化 の 定 着 、 ス ポ ー ツ に よ る 健 全 な 社 会 の 建 設 も あ り 得 ず 、 消 え て い く 存 在 に な っ て し ま う 点 。',\n",
              " 'C_A': '0 0 0 0 0 0 0 0 0 0 0 0 0 0 0 0 0 0 0 0 0 0 0 0 0 0 0 0 0 0 0 0 0 0 0 0 0 0 0 0 0 0 0 0 0 0 0 0 0 0 0 0 0 0 0 0 0 0 0 0 0 0 0 0 0 0 0 0 0 0 0 0 0 0 0 0 0 0 0 0 0',\n",
              " 'C_B': '0 0 0 0 0 0 0 0 0 0 0 0 0 0 0 0 0 0 0 0 0 0 0 0 0 0 0 0 0 0 0 0 0 0 0 0 0 0 0 0 0 0 0 0 0 0 0 0 0 0 0 0 0 0 0 0 0 0 0 0 0 0 0 0 0 0 0 0 0 0 0 0 0 0 0 0 0 0 0 0 0',\n",
              " 'C_C': '0 0 0 0 0 0 0 0 0 0 0 0 0 0 0 0 0 0 0 0 0 0 0 0 0 0 0 0 0 0 0 0 0 0 0 0 0 0 0 0 0 0 0 0 0 0 0 0 0 0 0 0 0 0 0 0 0 0 0 0 0 0 0 0 0 0 0 0 0 0 0 0 0 0 0 0 0 0 0 0 0',\n",
              " 'C_D': '0 0 0 0 0 0 0 0 0 0 0 0 0 0 0 0 0 0 0 0 0 0 0 0 0 0 0 0 0 0 0 0 0 0 0 0 0 0 0 0 0 0 0 0 0 0 0 0 0 0 0 0 0 0 0 0 0 0 0 0 0 0 0 0 0 0 0 0 0 0 0 0 0 0 0 0 0 0 0 0 0',\n",
              " 'C_E': '0 0 0 0 0 0 0 0 0 0 0 0 0 0 0 0 0 0 0 0 0 0 0 0 0 0 0 0 0 0 0 0 0 0 0 0 0 0 0 0 0 0 0 0 1 1 1 1 1 1 1 1 1 1 1 1 1 1 1 1 1 1 1 1 1 1 1 1 1 1 1 1 1 1 1 1 1 1 1 0 0'}"
            ]
          },
          "metadata": {},
          "execution_count": 5
        }
      ]
    },
    {
      "cell_type": "code",
      "source": [
        "from google.colab import drive\n",
        "drive.mount('/content/drive')"
      ],
      "metadata": {
        "id": "N0jXzjDHZYqB"
      },
      "execution_count": null,
      "outputs": []
    },
    {
      "cell_type": "code",
      "source": [
        "with open('./Y14/Y14_1-2_1_3.json') as f:\n",
        "  train_dataf = json.load(f)"
      ],
      "metadata": {
        "id": "kXyIz1UIQ-FG"
      },
      "execution_count": null,
      "outputs": []
    },
    {
      "cell_type": "code",
      "source": [
        "len(train_dataf)"
      ],
      "metadata": {
        "colab": {
          "base_uri": "https://localhost:8080/"
        },
        "id": "k1PpMCaDRATH",
        "outputId": "b3158924-4469-445b-8d49-6aabea4044c9"
      },
      "execution_count": null,
      "outputs": [
        {
          "output_type": "execute_result",
          "data": {
            "text/plain": [
              "2100"
            ]
          },
          "metadata": {},
          "execution_count": 60
        }
      ]
    },
    {
      "cell_type": "code",
      "source": [
        "with open('./Y14/Y14_2-2_2_3.json') as f:\n",
        "  train_dataf = json.load(f)\n",
        "train_dataf[0]"
      ],
      "metadata": {
        "colab": {
          "base_uri": "https://localhost:8080/"
        },
        "id": "vtGJdb87M0lR",
        "outputId": "57c2b1d9-65b1-4f85-8c9e-9d2bb4f2c741"
      },
      "execution_count": null,
      "outputs": [
        {
          "output_type": "execute_result",
          "data": {
            "text/plain": [
              "{'mecab': '「 真実 」 より も 「 幸福 」 を 優先 さ せる ため に 人々 は 後悔 や 自責 見つける と 「 真実 」 を 無視 し て 叩き つぶそ う と する こと 。',\n",
              " 'score': 5,\n",
              " 'A': '0 0 0 0 0 0 0 0 0 0 0 0 0 0 0 0 0 0 0 0 0 0 0 0 0 0 0 0 0 0 0 0 0 0 0',\n",
              " 'A_Score': 0,\n",
              " 'B': '1 1 1 1 1 1 1 1 1 1 1 1 0 0 0 0 0 0 0 0 0 0 0 0 0 0 0 0 0 0 0 0 0 0 0',\n",
              " 'B_Score': 4,\n",
              " 'C': '0 0 0 0 0 0 0 0 0 0 0 0 0 0 0 0 0 0 0 0 0 0 0 0 0 0 0 0 1 1 1 1 1 0 0',\n",
              " 'C_Score': 2,\n",
              " 'Miss_Score': -1,\n",
              " 'id': 501,\n",
              " 'Char': '「 真 実 」 よ り も 「 幸 福 」 を 優 先 さ せ る た め に 人 々 は 後 悔 や 自 責 見 つ け る と 「 真 実 」 を 無 視 し て 叩 き つ ぶ そ う と す る こ と 。',\n",
              " 'C_A': '0 0 0 0 0 0 0 0 0 0 0 0 0 0 0 0 0 0 0 0 0 0 0 0 0 0 0 0 0 0 0 0 0 0 0 0 0 0 0 0 0 0 0 0 0 0 0 0 0 0 0 0 0 0',\n",
              " 'C_B': '1 1 1 1 1 1 1 1 1 1 1 1 1 1 1 1 1 0 0 0 0 0 0 0 0 0 0 0 0 0 0 0 0 0 0 0 0 0 0 0 0 0 0 0 0 0 0 0 0 0 0 0 0 0',\n",
              " 'C_C': '0 0 0 0 0 0 0 0 0 0 0 0 0 0 0 0 0 0 0 0 0 0 0 0 0 0 0 0 0 0 0 0 0 0 0 0 0 0 0 0 0 0 1 1 1 1 1 1 1 1 1 0 0 0'}"
            ]
          },
          "metadata": {},
          "execution_count": 46
        }
      ]
    },
    {
      "cell_type": "code",
      "source": [
        "for i in train_dataf:\n",
        "  if(i['score'] > 12):\n",
        "    print(i)"
      ],
      "metadata": {
        "colab": {
          "base_uri": "https://localhost:8080/"
        },
        "id": "Dt5HdeqmM7eQ",
        "outputId": "e70724df-f483-430b-ef11-182f1e5446b3"
      },
      "execution_count": null,
      "outputs": [
        {
          "output_type": "stream",
          "name": "stdout",
          "text": [
            "{'mecab': '人間 の 論理 と 自然 の 論理 が 、 それぞれ せめぎ あわ ず に 自然 の 論理 が つぶさ れ 人間 の 論理 だけ で つくりださ れ た 緑 の 庭 は 、 けっして 共生 と は 言え ない から 。', 'score': 14, 'A': '0 0 0 0 0 0 0 0 0 0 0 0 0 0 0 0 0 0 0 0 0 0 0 0 0 0 0 0 1 1 1 1 0 0 0 0 0 0 0 0 0', 'A_Score': 2, 'B': '1 1 1 1 1 1 1 1 1 1 1 1 1 1 0 0 0 0 0 0 0 0 0 0 0 0 0 0 0 0 0 0 0 0 1 1 1 1 1 0 0', 'B_Score': 6, 'C': '0 0 0 0 0 0 0 0 0 0 0 0 0 0 1 1 1 1 1 1 1 1 1 1 1 1 1 1 0 0 0 0 0 0 0 0 0 0 0 0 0', 'C_Score': 6, 'Miss_Score': 0, 'EOS_Score': 0, 'id': 569, 'Char': '人 間 の 論 理 と 自 然 の 論 理 が 、 そ れ ぞ れ せ め ぎ あ わ ず に 自 然 の 論 理 が つ ぶ さ れ 人 間 の 論 理 だ け で つ く り だ さ れ た 緑 の 庭 は 、 け っ し て 共 生 と は 言 え な い か ら 。', 'C_A': '0 0 0 0 0 0 0 0 0 0 0 0 0 0 0 0 0 0 0 0 0 0 0 0 0 0 0 0 0 0 0 0 0 0 0 0 0 0 0 0 0 0 0 0 0 0 0 0 0 1 1 1 1 0 0 0 0 0 0 0 0 0 0 0 0 0 0 0 0', 'C_B': '1 1 1 1 1 1 1 1 1 1 1 1 1 1 1 1 1 1 1 1 1 1 1 1 0 0 0 0 0 0 0 0 0 0 0 0 0 0 0 0 0 0 0 0 0 0 0 0 0 0 0 0 0 0 0 0 0 0 1 1 1 1 1 1 1 1 0 0 0', 'C_C': '0 0 0 0 0 0 0 0 0 0 0 0 0 0 0 0 0 0 0 0 0 0 0 0 1 1 1 1 1 1 1 1 1 1 1 1 1 1 1 1 1 1 1 1 1 1 1 1 1 0 0 0 0 0 0 0 0 0 0 0 0 0 0 0 0 0 0 0 0'}\n",
            "{'mecab': '共生 と は 、 異なる 生物 の 利己 的 な 論理 の 結果 到達 し た もの だ が 、 庭 は 自然 の 論理 を 無視 し 人間 の 論理 だけ を 通す ため せめぎあい は 起ら ず 共生 で は ない から 。', 'score': 13, 'A': '0 0 0 0 0 0 0 0 0 0 0 0 0 0 0 0 0 0 0 0 1 1 0 0 0 0 0 0 0 0 0 0 0 0 0 0 0 0 0 0 0 0 0 0 0', 'A_Score': 2, 'B': '1 1 1 1 1 1 1 1 1 1 1 1 1 1 1 1 1 0 0 0 0 0 0 0 0 0 0 0 0 0 0 0 0 0 0 1 1 1 1 1 1 1 1 0 0', 'B_Score': 5, 'C': '0 0 0 0 0 0 0 0 0 0 0 0 0 0 0 0 0 0 0 0 0 0 1 1 1 1 1 1 1 1 1 1 1 1 0 0 0 0 0 0 0 0 0 0 0', 'C_Score': 6, 'Miss_Score': 0, 'EOS_Score': 0, 'id': 993, 'Char': '共 生 と は 、 異 な る 生 物 の 利 己 的 な 論 理 の 結 果 到 達 し た も の だ が 、 庭 は 自 然 の 論 理 を 無 視 し 人 間 の 論 理 だ け を 通 す た め せ め ぎ あ い は 起 ら ず 共 生 で は な い か ら 。', 'C_A': '0 0 0 0 0 0 0 0 0 0 0 0 0 0 0 0 0 0 0 0 0 0 0 0 0 0 0 0 0 1 1 0 0 0 0 0 0 0 0 0 0 0 0 0 0 0 0 0 0 0 0 0 0 0 0 0 0 0 0 0 0 0 0 0 0 0 0 0 0 0', 'C_B': '1 1 1 1 1 1 1 1 1 1 1 1 1 1 1 1 1 1 1 1 1 1 1 1 1 1 0 0 0 0 0 0 0 0 0 0 0 0 0 0 0 0 0 0 0 0 0 0 0 0 0 0 1 1 1 1 1 1 1 1 1 1 1 1 1 1 1 0 0 0', 'C_C': '0 0 0 0 0 0 0 0 0 0 0 0 0 0 0 0 0 0 0 0 0 0 0 0 0 0 0 0 0 0 0 1 1 1 1 1 1 1 1 1 1 1 1 1 1 1 1 1 1 1 0 0 0 0 0 0 0 0 0 0 0 0 0 0 0 0 0 0 0 0'}\n",
            "{'mecab': '人間 の 論理 だけ で つくりださ れ た 緑 の 庭 は 、 自然 の 論理 を 無視 し 、 人間 の 利己 だけ で つくら れ て いる ので 二つ の 論理 の せめぎあい が 起こり 得 ない ため 。', 'score': 13, 'A': '0 0 0 0 0 0 0 0 1 1 1 1 0 0 0 0 0 0 0 0 0 0 0 0 0 0 0 0 0 0 0 0 0 0 0 0 0 0 0 0 0', 'A_Score': 2, 'B': '0 0 0 0 0 0 0 0 0 0 0 0 0 0 0 0 0 0 0 0 0 0 0 0 0 0 0 0 0 0 1 1 1 1 1 0 0 0 0 0 0', 'B_Score': 5, 'C': '1 1 1 1 1 1 1 1 0 0 0 0 0 1 1 1 1 1 1 1 1 1 1 1 1 1 1 1 1 0 0 0 0 0 0 0 0 0 0 0 0', 'C_Score': 6, 'Miss_Score': 0, 'EOS_Score': 0, 'id': 1257, 'Char': '人 間 の 論 理 だ け で つ く り だ さ れ た 緑 の 庭 は 、 自 然 の 論 理 を 無 視 し 、 人 間 の 利 己 だ け で つ く ら れ て い る の で 二 つ の 論 理 の せ め ぎ あ い が 起 こ り 得 な い た め 。', 'C_A': '0 0 0 0 0 0 0 0 0 0 0 0 0 0 0 1 1 1 1 0 0 0 0 0 0 0 0 0 0 0 0 0 0 0 0 0 0 0 0 0 0 0 0 0 0 0 0 0 0 0 0 0 0 0 0 0 0 0 0 0 0 0 0 0 0 0 0 0', 'C_B': '0 0 0 0 0 0 0 0 0 0 0 0 0 0 0 0 0 0 0 0 0 0 0 0 0 0 0 0 0 0 0 0 0 0 0 0 0 0 0 0 0 0 0 0 0 0 0 1 1 1 1 1 1 1 1 1 1 1 0 0 0 0 0 0 0 0 0 0', 'C_C': '1 1 1 1 1 1 1 1 1 1 1 1 1 1 1 0 0 0 0 0 1 1 1 1 1 1 1 1 1 1 1 1 1 1 1 1 1 1 1 1 1 1 1 1 1 0 0 0 0 0 0 0 0 0 0 0 0 0 0 0 0 0 0 0 0 0 0 0'}\n",
            "{'mecab': '共生 は 人間 の 論理 と 自然 の 論理 が せめぎ あう こと で 起こる こと だ が 緑 の 庭 は 人間 の 利己 のみ で 作り出さ れ て おり そこ に は 自然 の 利己 が 存在 し ない から 。', 'score': 13, 'A': '0 0 0 0 0 0 0 0 0 0 0 0 0 0 0 0 0 0 1 1 1 1 0 0 0 0 0 0 0 0 0 0 0 0 0 0 0 0 0 0 0 0 0', 'A_Score': 2, 'B': '0 0 1 1 1 1 1 1 1 1 1 1 1 1 1 0 0 0 0 0 0 0 0 0 0 0 0 0 0 0 0 0 0 0 0 0 0 0 0 0 0 0 0', 'B_Score': 5, 'C': '0 0 0 0 0 0 0 0 0 0 0 0 0 0 0 0 0 0 0 0 0 0 1 1 1 1 1 1 1 1 1 1 1 1 1 1 1 1 1 1 1 0 0', 'C_Score': 6, 'Miss_Score': 0, 'EOS_Score': 0, 'id': 1790, 'Char': '共 生 は 人 間 の 論 理 と 自 然 の 論 理 が せ め ぎ あ う こ と で 起 こ る こ と だ が 緑 の 庭 は 人 間 の 利 己 の み で 作 り 出 さ れ て お り そ こ に は 自 然 の 利 己 が 存 在 し な い か ら 。', 'C_A': '0 0 0 0 0 0 0 0 0 0 0 0 0 0 0 0 0 0 0 0 0 0 0 0 0 0 0 0 0 0 1 1 1 1 0 0 0 0 0 0 0 0 0 0 0 0 0 0 0 0 0 0 0 0 0 0 0 0 0 0 0 0 0 0 0 0 0 0', 'C_B': '0 0 0 1 1 1 1 1 1 1 1 1 1 1 1 1 1 1 1 1 1 1 1 1 1 1 0 0 0 0 0 0 0 0 0 0 0 0 0 0 0 0 0 0 0 0 0 0 0 0 0 0 0 0 0 0 0 0 0 0 0 0 0 0 0 0 0 0', 'C_C': '0 0 0 0 0 0 0 0 0 0 0 0 0 0 0 0 0 0 0 0 0 0 0 0 0 0 0 0 0 0 0 0 0 0 1 1 1 1 1 1 1 1 1 1 1 1 1 1 1 1 1 1 1 1 1 1 1 1 1 1 1 1 1 1 1 0 0 0'}\n",
            "{'mecab': '人間 の 論理 のみ で 形成 さ れ た 緑 の 庭 は 、 完全 に 自然 の 論理 が 潰さ れ て おり 、 決して 異なる 理論 の せめぎあい の 結果 として 到達 さ れ た もの で は ない から 。', 'score': 13, 'A': '0 0 0 0 0 0 0 0 0 1 1 1 1 0 0 0 0 0 0 0 0 0 0 0 0 0 0 0 0 0 0 0 0 0 0 0 0 0 0 0 0 0 0', 'A_Score': 2, 'B': '0 0 0 0 0 0 0 0 0 0 0 0 0 0 0 0 0 0 0 0 0 0 0 0 0 0 1 1 1 1 0 0 0 0 0 0 0 0 0 0 0 0 0', 'B_Score': 5, 'C': '1 1 1 1 1 1 1 1 1 0 0 0 0 0 1 1 1 1 1 1 1 1 1 1 0 0 0 0 0 0 0 0 0 0 0 0 0 0 0 0 0 0 0', 'C_Score': 6, 'Miss_Score': 0, 'EOS_Score': 0, 'id': 59, 'Char': '人 間 の 論 理 の み で 形 成 さ れ た 緑 の 庭 は 、 完 全 に 自 然 の 論 理 が 潰 さ れ て お り 、 決 し て 異 な る 理 論 の せ め ぎ あ い の 結 果 と し て 到 達 さ れ た も の で は な い か ら 。', 'C_A': '0 0 0 0 0 0 0 0 0 0 0 0 0 1 1 1 1 0 0 0 0 0 0 0 0 0 0 0 0 0 0 0 0 0 0 0 0 0 0 0 0 0 0 0 0 0 0 0 0 0 0 0 0 0 0 0 0 0 0 0 0 0 0 0 0 0 0 0', 'C_B': '0 0 0 0 0 0 0 0 0 0 0 0 0 0 0 0 0 0 0 0 0 0 0 0 0 0 0 0 0 0 0 0 0 0 0 0 0 1 1 1 1 1 1 1 1 1 1 1 0 0 0 0 0 0 0 0 0 0 0 0 0 0 0 0 0 0 0 0', 'C_C': '1 1 1 1 1 1 1 1 1 1 1 1 1 0 0 0 0 0 1 1 1 1 1 1 1 1 1 1 1 1 1 1 1 0 0 0 0 0 0 0 0 0 0 0 0 0 0 0 0 0 0 0 0 0 0 0 0 0 0 0 0 0 0 0 0 0 0 0'}\n"
          ]
        }
      ]
    },
    {
      "cell_type": "code",
      "source": [
        "maxscore_dic = {}\n",
        "for s_type in ['A_Score', 'B_Score', 'C_Score']:\n",
        "  maxscore_dic[s_type]  = 0\n",
        "for i in train_dataf:\n",
        "  for s_type in ['A_Score', 'B_Score', 'C_Score']:\n",
        "    if(maxscore_dic[s_type] < i[s_type]):\n",
        "      maxscore_dic[s_type] = i[s_type]\n",
        "print(maxscore_dic)"
      ],
      "metadata": {
        "colab": {
          "base_uri": "https://localhost:8080/"
        },
        "id": "6HOr8_OWOXru",
        "outputId": "a9998c69-f85f-4942-d51b-ad90feec2047"
      },
      "execution_count": null,
      "outputs": [
        {
          "output_type": "stream",
          "name": "stdout",
          "text": [
            "{'A_Score': 6, 'B_Score': 6, 'C_Score': 2}\n"
          ]
        }
      ]
    }
  ],
  "metadata": {
    "colab": {
      "provenance": [],
      "gpuClass": "premium"
    },
    "gpuClass": "premium",
    "kernelspec": {
      "display_name": "Python 3",
      "name": "python3"
    },
    "language_info": {
      "name": "python"
    }
  },
  "nbformat": 4,
  "nbformat_minor": 0
}